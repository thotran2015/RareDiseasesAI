{
 "cells": [
  {
   "cell_type": "code",
   "execution_count": 1,
   "metadata": {},
   "outputs": [],
   "source": [
    "from datasets import load_dataset\n",
    "\n",
    "import pandas as pd\n",
    "import numpy as np \n"
   ]
  },
  {
   "cell_type": "code",
   "execution_count": 2,
   "metadata": {},
   "outputs": [
    {
     "name": "stderr",
     "output_type": "stream",
     "text": [
      "Found cached dataset rare_bench (/Users/juliev/.cache/huggingface/datasets/chenxz___rare_bench/RAMEDIS/1.0.0/7aec8acd7a69695cc23c75157e278fdc1f12c20f4eee0fa8c8bfdc689cdf8b9a)\n"
     ]
    },
    {
     "name": "stdout",
     "output_type": "stream",
     "text": [
      "RAMEDIS\n",
      "Dataset({\n",
      "    features: ['Phenotype', 'RareDisease', 'Department'],\n",
      "    num_rows: 624\n",
      "})\n"
     ]
    },
    {
     "name": "stderr",
     "output_type": "stream",
     "text": [
      "Found cached dataset rare_bench (/Users/juliev/.cache/huggingface/datasets/chenxz___rare_bench/MME/1.0.0/7aec8acd7a69695cc23c75157e278fdc1f12c20f4eee0fa8c8bfdc689cdf8b9a)\n"
     ]
    },
    {
     "name": "stdout",
     "output_type": "stream",
     "text": [
      "MME\n",
      "Dataset({\n",
      "    features: ['Phenotype', 'RareDisease', 'Department'],\n",
      "    num_rows: 40\n",
      "})\n"
     ]
    },
    {
     "name": "stderr",
     "output_type": "stream",
     "text": [
      "Found cached dataset rare_bench (/Users/juliev/.cache/huggingface/datasets/chenxz___rare_bench/HMS/1.0.0/7aec8acd7a69695cc23c75157e278fdc1f12c20f4eee0fa8c8bfdc689cdf8b9a)\n"
     ]
    },
    {
     "name": "stdout",
     "output_type": "stream",
     "text": [
      "HMS\n",
      "Dataset({\n",
      "    features: ['Phenotype', 'RareDisease', 'Department'],\n",
      "    num_rows: 88\n",
      "})\n"
     ]
    },
    {
     "name": "stderr",
     "output_type": "stream",
     "text": [
      "Found cached dataset rare_bench (/Users/juliev/.cache/huggingface/datasets/chenxz___rare_bench/LIRICAL/1.0.0/7aec8acd7a69695cc23c75157e278fdc1f12c20f4eee0fa8c8bfdc689cdf8b9a)\n"
     ]
    },
    {
     "name": "stdout",
     "output_type": "stream",
     "text": [
      "LIRICAL\n",
      "Dataset({\n",
      "    features: ['Phenotype', 'RareDisease', 'Department'],\n",
      "    num_rows: 370\n",
      "})\n"
     ]
    },
    {
     "name": "stderr",
     "output_type": "stream",
     "text": [
      "Found cached dataset rare_bench (/Users/juliev/.cache/huggingface/datasets/chenxz___rare_bench/PUMCH_ADM/1.0.0/7aec8acd7a69695cc23c75157e278fdc1f12c20f4eee0fa8c8bfdc689cdf8b9a)\n"
     ]
    },
    {
     "name": "stdout",
     "output_type": "stream",
     "text": [
      "PUMCH_ADM\n",
      "Dataset({\n",
      "    features: ['Phenotype', 'RareDisease', 'Department'],\n",
      "    num_rows: 75\n",
      "})\n"
     ]
    }
   ],
   "source": [
    "ds = [\"RAMEDIS\", \"MME\", \"HMS\", \"LIRICAL\", \"PUMCH_ADM\"]\n",
    "\n",
    "#df = pd.DataFrame()\n",
    "\n",
    "datasets = {}\n",
    "\n",
    "\n",
    "\n",
    "\n",
    "for dataset in ds:\n",
    "    data = load_dataset('chenxz/RareBench', dataset, split = \"test\")\n",
    "    datasets[dataset] = data\n",
    "    print(dataset)\n",
    "    print(data)"
   ]
  },
  {
   "cell_type": "code",
   "execution_count": 3,
   "metadata": {},
   "outputs": [
    {
     "data": {
      "text/plain": [
       "{'Phenotype': ['HP:0001522', 'HP:0001942', 'HP:0003210', 'HP:0003819'],\n",
       " 'RareDisease': ['OMIM:251000', 'ORPHA:27', 'CCRD:71'],\n",
       " 'Department': None}"
      ]
     },
     "execution_count": 3,
     "metadata": {},
     "output_type": "execute_result"
    }
   ],
   "source": [
    "datasets['RAMEDIS'][0]"
   ]
  },
  {
   "cell_type": "code",
   "execution_count": 8,
   "metadata": {},
   "outputs": [],
   "source": [
    "from pyhpo.ontology import Ontology\n",
    "from pyhpo import HPOSet"
   ]
  },
  {
   "cell_type": "code",
   "execution_count": 9,
   "metadata": {},
   "outputs": [],
   "source": [
    "onto = Ontology()"
   ]
  },
  {
   "cell_type": "code",
   "execution_count": 10,
   "metadata": {},
   "outputs": [],
   "source": [
    "term = Ontology.get_hpo_object(\"HP:0000790\")"
   ]
  },
  {
   "cell_type": "code",
   "execution_count": 11,
   "metadata": {},
   "outputs": [
    {
     "data": {
      "text/plain": [
       "HPOTerm(id='HP:0000790', name='Hematuria', is_a=['HP:0012211 ! Abnormal renal physiology', 'HP:0012614 ! Abnormal urine cytology'])"
      ]
     },
     "execution_count": 11,
     "metadata": {},
     "output_type": "execute_result"
    }
   ],
   "source": [
    "term"
   ]
  },
  {
   "cell_type": "code",
   "execution_count": 12,
   "metadata": {},
   "outputs": [
    {
     "data": {
      "text/plain": [
       "4.763881877142913"
      ]
     },
     "execution_count": 12,
     "metadata": {},
     "output_type": "execute_result"
    }
   ],
   "source": [
    "\n",
    "term.information_content['omim']"
   ]
  },
  {
   "cell_type": "code",
   "execution_count": 13,
   "metadata": {},
   "outputs": [
    {
     "data": {
      "text/plain": [
       "70"
      ]
     },
     "execution_count": 13,
     "metadata": {},
     "output_type": "execute_result"
    }
   ],
   "source": [
    "len(term.omim_diseases)"
   ]
  },
  {
   "cell_type": "code",
   "execution_count": 14,
   "metadata": {},
   "outputs": [
    {
     "name": "stdout",
     "output_type": "stream",
     "text": [
      "HP:0012614 | Abnormal urine cytology\n",
      "HP:0012211 | Abnormal renal physiology\n"
     ]
    }
   ],
   "source": [
    "for p in term.parents: \n",
    "    print(p)"
   ]
  },
  {
   "cell_type": "code",
   "execution_count": 15,
   "metadata": {},
   "outputs": [
    {
     "name": "stdout",
     "output_type": "stream",
     "text": [
      "HP:0032957 | Dysmorphic hematuria\n",
      "HP:0002907 | Microscopic hematuria\n",
      "HP:0012587 | Macroscopic hematuria\n"
     ]
    }
   ],
   "source": [
    "for p in term.children: \n",
    "    print(p)"
   ]
  },
  {
   "cell_type": "code",
   "execution_count": 16,
   "metadata": {},
   "outputs": [
    {
     "data": {
      "text/plain": [
       "HPOSet.from_serialized(\"1522+1942+3210+3819\")"
      ]
     },
     "execution_count": 16,
     "metadata": {},
     "output_type": "execute_result"
    }
   ],
   "source": [
    "pt1 =HPOSet.from_queries(datasets['RAMEDIS'][0]['Phenotype'])\n",
    "pt1"
   ]
  },
  {
   "cell_type": "code",
   "execution_count": 17,
   "metadata": {},
   "outputs": [],
   "source": [
    "pt2 = HPOSet.from_queries(datasets['RAMEDIS'][1]['Phenotype'])"
   ]
  },
  {
   "cell_type": "code",
   "execution_count": 18,
   "metadata": {},
   "outputs": [],
   "source": [
    "pt1_leaf = pt1.child_nodes()"
   ]
  },
  {
   "cell_type": "code",
   "execution_count": 19,
   "metadata": {},
   "outputs": [
    {
     "data": {
      "text/plain": [
       "4"
      ]
     },
     "execution_count": 19,
     "metadata": {},
     "output_type": "execute_result"
    }
   ],
   "source": [
    "len(pt1_leaf)"
   ]
  },
  {
   "cell_type": "code",
   "execution_count": 21,
   "metadata": {},
   "outputs": [
    {
     "data": {
      "text/plain": [
       "0.3606589964532872"
      ]
     },
     "execution_count": 21,
     "metadata": {},
     "output_type": "execute_result"
    }
   ],
   "source": [
    "pt1.similarity(pt2)"
   ]
  },
  {
   "cell_type": "code",
   "execution_count": 22,
   "metadata": {},
   "outputs": [
    {
     "data": {
      "text/plain": [
       "{'mean': 4.868559787388284,\n",
       " 'total': 19.474239149553135,\n",
       " 'max': 7.62608275807238,\n",
       " 'all': [4.085123434035067,\n",
       "  7.62608275807238,\n",
       "  4.028770497483935,\n",
       "  3.7342624599617538]}"
      ]
     },
     "execution_count": 22,
     "metadata": {},
     "output_type": "execute_result"
    }
   ],
   "source": [
    "pt1.information_content()"
   ]
  },
  {
   "cell_type": "code",
   "execution_count": null,
   "metadata": {},
   "outputs": [],
   "source": []
  }
 ],
 "metadata": {
  "kernelspec": {
   "display_name": "metrics",
   "language": "python",
   "name": "python3"
  },
  "language_info": {
   "codemirror_mode": {
    "name": "ipython",
    "version": 3
   },
   "file_extension": ".py",
   "mimetype": "text/x-python",
   "name": "python",
   "nbconvert_exporter": "python",
   "pygments_lexer": "ipython3",
   "version": "3.11.0"
  }
 },
 "nbformat": 4,
 "nbformat_minor": 2
}
