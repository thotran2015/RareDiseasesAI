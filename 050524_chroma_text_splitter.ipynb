{
 "cells": [
  {
   "cell_type": "code",
   "execution_count": 1,
   "metadata": {},
   "outputs": [
    {
     "data": {
      "text/plain": [
       "True"
      ]
     },
     "execution_count": 1,
     "metadata": {},
     "output_type": "execute_result"
    }
   ],
   "source": [
    "import pandas as pd\n",
    "import numpy as np \n",
    "from langchain_text_splitters import RecursiveCharacterTextSplitter\n",
    "\n",
    "from langchain_chroma import Chroma\n",
    "from langchain_openai import OpenAIEmbeddings\n",
    "from dotenv import load_dotenv\n",
    "from langchain_openai import ChatOpenAI\n",
    "\n",
    "from langchain.chains.combine_documents import create_stuff_documents_chain\n",
    "from langchain_core.prompts import ChatPromptTemplate, MessagesPlaceholder\n",
    "\n",
    "\n",
    "load_dotenv()\n",
    "\n"
   ]
  },
  {
   "cell_type": "code",
   "execution_count": 2,
   "metadata": {},
   "outputs": [],
   "source": [
    "text_splitter = RecursiveCharacterTextSplitter(\n",
    "    separators=[\n",
    "        \"==== Front\", #signals new article\n",
    "        \"====\",\n",
    "        \"\\n\\n\",\n",
    "    ],\n",
    "    # Existing args\n",
    "    chunk_size=2000,\n",
    "    chunk_overlap=20,\n",
    "    length_function=len,\n",
    "    is_separator_regex=False,\n",
    ")\n"
   ]
  },
  {
   "cell_type": "code",
   "execution_count": 3,
   "metadata": {},
   "outputs": [],
   "source": [
    "with open(\"data/HPP_all_data.txt\") as f:\n",
    "    hpp_data = f.read()"
   ]
  },
  {
   "cell_type": "code",
   "execution_count": 4,
   "metadata": {},
   "outputs": [],
   "source": [
    "## TODO pre-process to remove non-useful chunks, like references\n",
    "## TODO add metadata based on chunk similarity"
   ]
  },
  {
   "cell_type": "code",
   "execution_count": 5,
   "metadata": {},
   "outputs": [],
   "source": [
    "texts = text_splitter.create_documents([hpp_data])\n"
   ]
  },
  {
   "cell_type": "code",
   "execution_count": 6,
   "metadata": {},
   "outputs": [
    {
     "data": {
      "text/plain": [
       "[]"
      ]
     },
     "execution_count": 6,
     "metadata": {},
     "output_type": "execute_result"
    }
   ],
   "source": [
    "texts[:0]"
   ]
  },
  {
   "cell_type": "code",
   "execution_count": 7,
   "metadata": {},
   "outputs": [
    {
     "data": {
      "text/plain": [
       "[Document(page_content='==== Front\\nBr J Radiol\\nBr J Radiol\\nbjr\\nThe British Journal of Radiology\\n0007-1285\\n1748-880X\\nThe British Institute of Radiology.\\n\\n33684312\\nBJR-D-20-01457\\n10.1259/bjr.20201457\\nReview Article\\nbjrBJRint-vascMSK/Soft tissuesAtraumatic fractures of the femur\\nAtraumatic fractures of the femur\\nHedge et al\\nHedge Ganesh 1doc.ganeshhegde@gmail.com\\n\\nThaker Siddharth 2siddharthnthaker@gmail.com\\n\\nBotchu Rajesh 3drbrajesh@yahoo.com\\n\\nFawcett Richard 2Richard.fawcett1@nhs.net\\n\\nhttps://orcid.org/0000-0002-8292-9096\\nGupta Harun 2harun.gupta@nhs.net\\n\\n1 Department of Radiology, Royal Lancaster Infirmary, Lancaster, UK\\n2 Department of Musculoskeletal Radiology, Leeds Teaching Hospitals, Leeds, UK\\n3 Department of Musculoskeletal Radiology, Royal Orthopaedic Hospital, Birmingham, UK\\nAddress correspondence to: Dr Harun Gupta. E-mail: harun.gupta@nhs.net\\n01 5 2021\\n18 3 2021\\n18 3 2021\\n94 1121 2020145719 12 2020\\n24 2 2021\\n01 3 2021\\n© 2021 The Authors. Published by the British Institute of Radiology\\n2021\\nThe Authors\\nhttps://creativecommons.org/licenses/by/4.0/ This is an Open Access article distributed under the terms of the Creative Commons Attribution 4.0 Unported License http://creativecommons.org/licenses/by/4.0/, which permits unrestricted use, distribution and reproduction in any medium, provided the original author and source are credited.'),\n",
       " Document(page_content='Atraumatic fractures of femur, although not as common as traumatic fractures, are frequently encountered in the clinical practice. They present with non-specific symptoms and can be occult on initial imaging making their diagnosis difficult, sometimes resulting in complications. Overlapping terminologies used to describe these fractures may hamper effective communication between the radiologist and the clinician. In this article, we review various atraumatic fractures of femur, terminologies used to describe them, their imaging findings and differential diagnosis. The article also describes the aetiology, pathophysiology and relevant biomechanics behind these fractures. An approach to atraumatic femoral fractures has been outlined.'),\n",
       " Document(page_content='==== Body\\npmcIntroduction\\n\\nAtraumatic femoral fractures are frequently encountered in clinical practice. The femur is the largest weight-bearing bone providing attachments to powerful antigravity muscles and a few of the strongest ligaments and tendons of the body and endures considerable biomechanical forces. In addition to traumatic injuries, the femur is susceptible to fractures even without significant trauma under certain clinical conditions; e.g. metabolic bone disease. Atraumatic fractures, contrary to those following trauma, present with vague symptoms, occult on imaging posing challenges during diagnosis. We will describe non-traumatic femoral fractures, their imaging features and differentials in the article. In the end, we will outline to approach these fractures.\\n\\nTerminologies\\n\\nTerminologies used to describe atraumatic fractures are confusing and often overlap.\\n\\nAtraumatic fracture term donates a fracture caused by a relatively low-energy mechanism that usually considered incapable of producing a fracture.1 This broad category includes pathological, stress, fatigue, insufficiency and atypical femoral fractures.\\n\\nStress fractures, partial or complete, usually result in bones unable to withstand subthreshold stress applied in a rhythmical and repeated manner.2 Such fractures can be of two types: fatigue fractures – from abnormal repetitive stress causing temporal mechanical failure – in a normal and insufficiency fractures – owing to normal stress on an abnormally weakened bone.3 The term “Fragility fracture” is exclusive for insufficiency fractures in osteoporosis following single minimally traumatic event.1,4\\n\\nPathological fractures are insufficiency fractures occurring in a bone weakened by benign or malignant neoplastic lesion affecting its trabecular integrity (Figure 1). By the same definition, fracture through osteomyelitis is regarded as a pathological fracture.1,5 (Supplementary Figure 1).'),\n",
       " Document(page_content='Supplementary Figure 1. Click here for additional data file.\\n\\nFigure 1. Pathological fracture/ (a) AP radiograph of the femur demonstrating a lucent lesion in the distal femur with permeative pattern of bone destruction suggesting an aggressive lesion. (b) Lateral view of the knee joint including the distal femur demonstrating a pathological fracture through the lesion. (c) T1 coronal MRI image showing aggressive lesion replacing the normal marrow fat at the fracture site with a large adjacent soft tissue component. AP, anteroposterior.\\n\\nFatigue fractures\\n\\nThese are focal fractures in the normal bone due to repetitive stress following sustained microdamage exceeding the bone’s ability to heal employing physiological remodelling. Frequent in young, suboptimally conditioned individuals who abruptly engage in strenuous activities such as weekend-warriors with limited physical fitness, military recruits, and athletes who abruptly intensify their training regimen,6 they are also common after orthopaedic surgery in lower limbs, foot in particular where altered gait and osteopaenia following guarded mobility in post-surgical period implied as causative factors.7\\n\\nThe femur is the fourth common bone affected by stress injuries accounting for approximately 7.2% cases in athletes.8 The femoral neck (50%), the condylar area (24%) and the proximal shaft (18%) are commonly affected anatomical sites and can be bilateral (9% cases).9 The medial aspect is at risk and commonly affected due to biomechanical forces exerted on it during weight-bearing and muscle exertion. Compressive forces pass through the medial shaft; whereas, tensile forces act upon the lateral aspect when one bears the weight – the latter is substantially lesser relieved by the iliotibial tract and vastus lateralis action – in contrast of dynamics of vastus medialis, adductor longus and brevis increasing medial compression force.10,11'),\n",
       " Document(page_content='Radiographic findings of the fatigue fracture depend on the location of involvement and chronicity of the injury. Radiographically, the earliest finding is a subtle lucency in the cortex often described as “Grey cortex sign”12 from microfracture and osteoclastic resorption (Figure 2) followed by periosteal reaction, and cortical thickening on progression because of periosteal and endosteal remodelling and callus formation.1 As it lags behind the osteoclastic activity by a few weeks, the periosteal reaction is not visible until several weeks into the disease process.7 Cortical breaks may be visible in injuries inciting severe bony responses.\\n\\nFigure 2. 35-year-old female amateur marathon runner with Fatigue fracture in the femoral diaphysis where cortical bone predominates. (a) Radiograph demonstrating subtle central lucency with cortical thickening and periosteal reaction (arrow). (b) Coronal PDFS image (c) Coronal T1 image demonstrating marrow edema (dotted arrow), cortical thickening and periosteal reaction (arrow). PDFS, proton density fat saturated.\\n\\nFatigue fractures in femur predominantly affect its cancellous bone dominant parts such as metaphysis, neck and intercondylar region and demonstrate different radiological appearances. The heralding finding is faint blurring and sclerosis of the trabeculae. Following which, linear intramedullary sclerosis due to microcallus becomes evident (Figure 3). For fatigue fractures, MRI is the gold-standard imaging modality with the highest sensitivity and specificity,13 however, specificity of MRI may be low for early changes of fracture. Marrow oedema in presence or absence of periosteal reaction is the earliest imaging finding. In more established injuries, a fracture line may be visible appearing as a linear hypointense line on all imaging sequences, usually followed by periosteal and endosteal callus formation.'),\n",
       " Document(page_content='Figure 3. Fatigue fracture in the femoral neck where cancellous bone predominates. (a) Radiograph demonstrating subtle intramedullary sclerosis (arrow) along the fracture line with blurred trabeculae. (b) Coronal STIR image demonstrating marrow oedema and the linear hypointense fracture line(arrow). STIR, short tau inversion recovery.\\n\\nProximal femur, particularly intercondylar region, neck and head of femur contain peculiar arrangement of trabeculae, primary compressive trabeculae (vertically oriented), primary tensile trabeculae (more horizontally oriented), secondary compressive trabeculae (obliquely oriented) and greater trochanteric trabeculae. Fractures from compressive stresses and located along the medial aspect of the femur are considered low risk as they tend to reduce with weight bearing and usually managed conservatively. Fractures due to tensile stress, such as fractures along the superolateral aspect of the femoral neck which occur perpendicular to the tensile trabeculae are considered high risk which needs extended rehabilitation, may result in a delayed union or even progress to complete fractures unless treated. Those with a fracture line involving more than 50% of the width of the femoral neck and displaced fractures are also considered high risk and need aggressive management.1\\n\\nFemoral fatigue fractures are typically from compression stress and can be managed conservatively by rest and restricted activities. MRI findings are used to grade the severity of the fatigue fractures and to ascertain return to play or recovery time. (Table 1). According to Arendt grading of stress fractures, time required to return to sports is approximately 3 weeks for Grade 1 injury, 3–6 weeks for Grade 2 injury, 12–16 weeks for Grade 3 injury with Grade 4 injury requiring more than 16 weeks of rest15 (Table 2).\\n\\nTable 1. Arendt et al14 a grading of the stress fractures'),\n",
       " Document(page_content='Low grade\\t\\n1\\tPositive signal changes on STIR images only.\\t\\n2\\tPositive signal changes on STIR and T2.\\t\\nHigh Grade\\t\\n3\\tPositive signal changes on STIR, T1 and T2; no fracture\\t\\nSTIR, short tau inversion recovery.\\n\\na Modified with permission from original publication).\\n\\nTable 2. Key features of fatigue fractures\\n\\nFatigue fractures are due to repetitive stress, commonly seen athletes or military recruits.\\n\\nFemoral neck is most common location.\\n\\nRadiographic findings are subtle and depend on the location of involvement and chronicity, appearing as subtle lucency in cortical bone and faint blurring and sclerosis of the trabeculae in cancellous bone.\\n\\nMRI is most sensitive and specific imaging modality should be done even when radiographs are negative in appropriate clinical setting.\\n\\nMRI demonstrates marrow oedema and may show fracture line in later stages.\\n\\nMRI classification is useful in assessing the severity of the fracture and return to activity time.\\n\\n\\t\\n\\nInsufficiency fractures\\n\\nSubchondral insufficiency fracture\\n\\nGenerally involving elderly females with osteoporosis, subchondral insufficiency fractures (SIF) are infrequent causes of hip pain and can mimic hip osteonecrosis.15,16 Bone fragility secondary to osteoporosis is an attributable risk factor exaggerating stress applied immediately below the subchondral area.17. SIF, in young individuals, is uncommon18 and be seen as fatigue fractures in military recruits,19 post-renal and liver transplant20 and in patients on oral steroids.21 It has also been implicated as a potential precursor of rapidly destructive osteoarthritis.22\\n\\nRadiographs are often unremarkable in initial stages and may show background osteopaenia. A few months later, there may be sclerotic changes due to subchondral fatty saponification and reactive subchondral remodelling. A crescent sign depicting to subchondral collapse is a sign of advanced disease.18'),\n",
       " Document(page_content='MRI findings are characteristic including subchondral-predominant bone marrow oedema on fluid sensitive sequences and a characteristic subchondral low signal intensity (SI) band on T1 images corresponding to fracture line and associated trabecular remodelling23 located generally in the superolateral aspect of the femoral head.23,24 It is often seen as an irregular, serpiginous, disconnected and convex to the articular surface23,25 (Figures 4 and 5). Furthermore, the area between SIF and the articular surface usually demonstrates high signal intensity on T2 weighted images owing to marrow oedema, especially in the early phase of the fracture.25 Prognostically, some SIF can resolve after conservative treatment while others progress to subarticular collapse and subsequent osteoarthritis requiring surgical intervention.22–24 According to literature, the length of SIF has prognostic value, being shorter in patients without progression to collapse (mean 13.4\\u2009mm) than in patients with progression to collapse (22.5\\u2009mm).26 The percentage of weight-bearing femoral head involved is also described as a prognostic factor for predicting the progression to collapse.26\\n\\nFigure 4. Subchondral insufficiency fracture of the left femoral head. Coronal T1 (a) and Sagittal PDFS (b) images demonstrating marrow oedema in the femoral head and neck with Hypo intense irregular fracture line (arrow). PDFS, proton density fat saturated.\\n\\nFigure 5. MRI Coronal T1 imaging of right hip demonstrating a linear low signal subchondral line in the superior femoral head consistent with subchondral insufficiency fracture.'),\n",
       " Document(page_content='Important differential diagnosis of SIF includes femoral head osteonecrosis and transient osteoporosis. In osteonecrosis, previously mentioned low-intensity band representing repair tissue tends to be smooth and circumscribed around necrotic segment entirely24–26 (Figure 6) compared to irregular fracture line in SIF. Subchondral collapse is a feature of established osteonecrosis.26 In gadolinium-enhanced MRI, SIF demonstrate contrast enhancement due to the presence of viable bone between fracture line and weight-bearing cortex which is absent in osteonecrosis due to nonviable bone.24\\n\\nFigure 6. T1 axial (a) and Coronal (b) and T2 fat saturated axial (c) images demonstrating osteonecrosis (avascular necrosis) with a smooth well-circumscribed margin.\\n\\nIn transient osteoporosis, bone marrow oedema is seen in femoral head and neck, sometimes sparing the subchondral region27 and with the absence of subchondral low SI band (Table 3).\\n\\nTable 3. Key features of subchondral insufficiency fracture\\n\\nMost commonly seen in elderly osteoporotic females.\\n\\nRadiographs are often unremarkable and MRI is imaging modality of choice.\\n\\nMarrow oedema with irregular, disconnected subchondral fracture line which is convex to articular surface is characteristic MRI finding.\\n\\nOsteonecrosis of femoral head and transient osteoporosis are important differentials.\\n\\n\\t\\n\\nOsteomalacia\\n\\nOsteomalacia is characterised by deficient mineralisation of the osteoid in affected bones. Defective deposition of calcium salts remains a cause due to low serum calcium, phosphorus or both caused either by its impaired absorption from the gastrointestinal tract or increased renal excretion. Low in their mineral content, the weakened bones become too soft and bend readily predisposing them for deformities and fractures.'),\n",
       " Document(page_content='It results in reduced bone mass with ill-defined trabecular bone following excessive deposition of the unmineralised osteoid, showing intermediate density on CT between that of bone and marrow.28 Looser zones or “Pseudo fractures” are pathognomonic findings of osteomalacia. By definition, they are stress fractures29 resulting from deposition of the unmineralised matrix at the site of stress or nutrient vessels.28 Manifesting typically late in the disease course, they follow minimal or no trauma. They share similar anatomic locations with stress fractures, usually seen on the medial aspect of the femur as broad lucencies perpendicular to the cortex, often bilateral, symmetrical and sometimes multiple. They demonstrate minimal marginal sclerosis and callus with delayed healing29,30 (Figure 7).\\n\\nFigure 7. (a) Anteroposterior radiograph of the pelvis. (b) Anteroposterior and (c) Lateral radiograph of the right femur showing looser zones of osteomalacia. Multiple, bilateral lucency which involve only a part of femoral shaft along the medial aspect, oriented perpendicular to the cortex with associated surrounding sclerosis.\\n\\nIncremental fractures\\n\\nThe is reserved for insufficiency fractures seen in the Paget’s disease. The aetiology of the Paget’s disease is unknown and is characterised by excessive and abnormal remodelling of bone which results in abnormally enlarged but weakened bone often resulting in affected bowed femur. Fractures are the most common complications31 typically involving lateral/convex aspect of the proximal femur.\\n\\nOn radiographs, they appear as a single or multiple linear, incomplete, transversely oriented cortical lucencies initially. They may become complete with minimal or no trauma, described as “Banana fracture”. These fractures notoriously show high prevalence of non-union31,32 (Figure 8).')]"
      ]
     },
     "execution_count": 7,
     "metadata": {},
     "output_type": "execute_result"
    }
   ],
   "source": [
    "texts[:10]"
   ]
  },
  {
   "cell_type": "code",
   "execution_count": 8,
   "metadata": {},
   "outputs": [],
   "source": [
    "vectorstore = Chroma.from_documents(documents=texts[:100], embedding=OpenAIEmbeddings()) #only embed the first 100 for now\n",
    "\n"
   ]
  },
  {
   "cell_type": "code",
   "execution_count": 9,
   "metadata": {},
   "outputs": [
    {
     "data": {
      "text/plain": [
       "<langchain_chroma.vectorstores.Chroma at 0x15c4b5ad0>"
      ]
     },
     "execution_count": 9,
     "metadata": {},
     "output_type": "execute_result"
    }
   ],
   "source": [
    "vectorstore"
   ]
  },
  {
   "cell_type": "code",
   "execution_count": 10,
   "metadata": {},
   "outputs": [],
   "source": [
    "retriever = vectorstore.as_retriever(k=4)"
   ]
  },
  {
   "cell_type": "code",
   "execution_count": 11,
   "metadata": {},
   "outputs": [],
   "source": [
    "docs = retriever.invoke(\"What is hypophosphatasia?\")\n"
   ]
  },
  {
   "cell_type": "code",
   "execution_count": 12,
   "metadata": {},
   "outputs": [
    {
     "data": {
      "text/plain": [
       "[Document(page_content='Deficient expression and/or activity of TNAP enzyme in humans causes a rare, heritable disorder called hypophosphatasia (HPP). Hypophosphatasia in humans has a broad range of severity that corresponds with timing of onset. Symptoms range from lethal and/or severe with perinatal or infantile onset (29), to modest and milder forms with childhood and adult onset (30, 31). Through a series of preclinical studies conducted on the Alpl−/− mouse model of infantile hypophosphatasia (TNAP−/− mice), a mineral-targeted recombinant form of TNAP was developed (32, 33). This recombinant enzyme was initially tested in patients with life threatening disease and was shown to improve respiratory function, skeletal mineralization and survival in patients with severe perinatal and infantile hypophosphatasia (34, 35). More recent results confirm safety and longer-term efficacy of this enzyme replacement therapy. In a 7 year follow up to the original trial, skeletal healing was sustained with additional improvements over time in treatment for respiratory function, weight, height, fine motor, gross motor and cognitive skills (36). While this drug is clearly life rescuing and life changing for severely affected hypophosphatasia patients, symptoms such as muscle weakness and craniosynostosis (the premature fusion of growing cranial bones) are not alleviated with treatment (37).'),\n",
       " Document(page_content='\\n\\nHypophosphatasia is a rare heritable metabolic disorder caused by deficient Tissue Non-specific Alkaline Phosphatase (TNAP) enzyme activity. A principal function of TNAP is to hydrolyze the tissue mineralization inhibitor pyrophosphate. ENPP1 (Ectonucleotide Pyrophosphatase/Phosphodiesterase 1) is a primary enzymatic generator of pyrophosphate and prior results showed that elimination of ENPP1 rescued bone hypomineralization of skull, vertebral and long bones to different extents in TNAP null mice. Current TNAP enzyme replacement therapy alleviates skeletal, motor and cognitive defects but does not eliminate craniosynostosis in pediatric hypophosphatasia patients. To further understand mechanisms underlying craniosynostosis development in hypophosphatasia, here we sought to determine if craniofacial abnormalities including craniosynostosis and skull shape defects would be alleviated in TNAP null mice by genetic ablation of ENPP1. Results show that homozygous deletion of ENPP1 significantly diminishes the incidence of craniosynostosis and that skull shape abnormalities are rescued by hemi- or homozygous deletion of ENPP1 in TNAP null mice. Skull and long bone hypomineralization were also alleviated in TNAP−/−/ENPP1−/− compared to TNAP−/−/ENPP1+/+ mice, though loss of ENPP1 in combination with TNAP had different effects than loss of only TNAP on long bone trabeculae. Investigation of a relatively large cohort of mice revealed that the skeletal phenotypes of TNAP null mice were markedly variable. Because FGF23 circulating levels are known to be increased in ENPP1 null mice and because FGF23 influences bone, we measured serum intact FGF23 levels in the TNAP null mice and found that a subset of TNAP−/−/ENPP1+/+ mice exhibited markedly high serum FGF23. Serum FGF23 levels also correlated to mouse body measurements, the incidence of craniosynostosis, skull shape abnormalities and skull bone density and volume fraction. Together, our results demonstrate that balanced expression of TNAP and ENPP1 enzymes are essential for microstructure and mineralization of both skull and long bones, and for preventing craniosynostosis. The results also show that FGF23 rises in the TNAP−/− model of murine lethal hypophosphatasia. Future studies are required to determine if the rise in FGF23 is a cause, consequence, or marker of disease phenotype severity.'),\n",
       " Document(page_content='DISCUSSION\\n\\nTNAP (Tissue Non-specific Alkaline Phosphatase) enzyme deficiency leads to the metabolic disorder hypophosphatasia in mice and humans with a primary phenotype of bone hypomineralization (9, 29–31). The phenotype of severe hypophosphatasia in mouse pups and human infants can also include craniosynostosis, the premature fusion of cranial bones leading to diminished skull growth, high intracranial pressure and an abnormal skull shape (29, 38, 49). Treatment of infants and children with severe hypophosphatasia using a recombinant, mineral-targeted form of TNAP has been highly successful for improving survival, and for rescuing bone mineralization plus motor and cognitive deficiencies. Unfortunately, the recombinant enzyme therapy has been less efficacious for preventing craniosynostosis (36). In this study we primarily sought to determine if ablation of the pyrophosphate generating enzyme, ENPP1, in TNAP null mice would rescue craniosynostosis and associated craniofacial skeletal abnormalities because deletion of ENPP1 in TNAP null mice was previously shown to rescue skeletal mineralization (13) and to further understand mechanisms that mediate the craniofacial abnormalities in hypophosphatasia.'),\n",
       " Document(page_content='Discussion\\nNSHPT is a rare genetic disorder which presents in the first few weeks of life with poor feeding, lethargy, hypotonia, respiratory distress and failure to thrive, all of which are non-specific symptoms and signs of common neonatal problems [2]. Failure to recognise the problem early and initiate appropriate treatment promptly is associated with poor neurodevelopmental outcomes and a mortality rate of greater than 50% [3].\\n\\nIn the absence of widely-available rapid molecular testing, a diagnosis relied on identifying the typical clinical presentation and biochemistry. A typical presentation and severe hypercalcaemia in an infant born to consanguineous parents were highly suggestive of NHSPT, and further testing which revealed high PTH levels and typical radiological features was highly suggestive in our patient.\\n\\nThe differential diagnosis of neonatal hypercalcaemia includes idiopathic infantile hypercalcaemia, William syndrome, subcutaneous fat necrosis, vitamin D intoxication and hypophosphatasia; all of which are associated with low PTH levels.\\n\\nCinacalcet is an allosteric activator of the CaSR, increasing its sensitivity to extracellular calcium leading to a decrease in PTH output. Homozygous inactivating mutations of CaSR are known to be non-responders to calcimimetics [5], as seen in our patient.\\n\\nIn patients whom cinacalcet was successful, a significant calcium reduction was seen within a couple of days. A dramatic response in the PTH and calcium levels were seen 2 days after cinacalcet (0.4mg/kg/day) [6]. Therefore, in the absence of rapidly-available genetic testing, a lack of response to a trial of cinacalcet should suggest homozygous mutations.')]"
      ]
     },
     "execution_count": 12,
     "metadata": {},
     "output_type": "execute_result"
    }
   ],
   "source": [
    "docs"
   ]
  },
  {
   "cell_type": "code",
   "execution_count": 15,
   "metadata": {},
   "outputs": [],
   "source": [
    "chat = ChatOpenAI(model=\"gpt-3.5-turbo-1106\")\n",
    "\n",
    "question_answering_prompt = ChatPromptTemplate.from_messages(\n",
    "    [\n",
    "        (\n",
    "            \"system\",\n",
    "            \"Answer the user's questions based on the below context:\\n\\n{context}\",\n",
    "        ),\n",
    "        MessagesPlaceholder(variable_name=\"messages\"),\n",
    "    ]\n",
    ")\n",
    "\n",
    "document_chain = create_stuff_documents_chain(chat, question_answering_prompt)"
   ]
  },
  {
   "cell_type": "code",
   "execution_count": 16,
   "metadata": {},
   "outputs": [
    {
     "data": {
      "text/plain": [
       "'The limitations of animal models of hypophosphatasia include the challenge of directly translating findings to human patients. While animal models, such as the TNAP null mice, can provide valuable insights into the disease, differences in physiology, genetics, and response to treatments between species can limit the direct applicability of findings to human patients. Additionally, the complexity of the disease in humans, with its broad range of severity and symptoms, may not be fully captured by animal models. Therefore, while animal models are important for studying disease mechanisms and testing potential treatments, the findings need to be carefully validated in human clinical studies.'"
      ]
     },
     "execution_count": 16,
     "metadata": {},
     "output_type": "execute_result"
    }
   ],
   "source": [
    "from langchain.memory import ChatMessageHistory\n",
    "\n",
    "demo_ephemeral_chat_history = ChatMessageHistory()\n",
    "\n",
    "demo_ephemeral_chat_history.add_user_message(\"What are the limitations of animal models of hypophosphatasia?\")\n",
    "\n",
    "document_chain.invoke(\n",
    "    {\n",
    "        \"messages\": demo_ephemeral_chat_history.messages,\n",
    "        \"context\": docs,\n",
    "    }\n",
    ")"
   ]
  },
  {
   "cell_type": "code",
   "execution_count": null,
   "metadata": {},
   "outputs": [],
   "source": []
  }
 ],
 "metadata": {
  "kernelspec": {
   "display_name": "metrics",
   "language": "python",
   "name": "python3"
  },
  "language_info": {
   "codemirror_mode": {
    "name": "ipython",
    "version": 3
   },
   "file_extension": ".py",
   "mimetype": "text/x-python",
   "name": "python",
   "nbconvert_exporter": "python",
   "pygments_lexer": "ipython3",
   "version": "3.11.0"
  }
 },
 "nbformat": 4,
 "nbformat_minor": 2
}
